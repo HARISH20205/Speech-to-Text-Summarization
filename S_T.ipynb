{
  "nbformat": 4,
  "nbformat_minor": 0,
  "metadata": {
    "colab": {
      "provenance": []
    },
    "kernelspec": {
      "name": "python3",
      "display_name": "Python 3"
    },
    "language_info": {
      "name": "python"
    }
  },
  "cells": [
    {
      "cell_type": "code",
      "source": [
        "!pip install openai-whisper transformers pytube pydub torch mysql-connector-python"
      ],
      "metadata": {
        "colab": {
          "base_uri": "https://localhost:8080/"
        },
        "id": "BzhWPe5tp96G",
        "outputId": "e0b2020c-f87e-4bb7-a01b-46cfd83e5c9f"
      },
      "execution_count": null,
      "outputs": [
        {
          "output_type": "stream",
          "name": "stdout",
          "text": [
            "Collecting openai-whisper\n",
            "  Downloading openai-whisper-20231117.tar.gz (798 kB)\n",
            "\u001b[2K     \u001b[90m━━━━━━━━━━━━━━━━━━━━━━━━━━━━━━━━━━━━━━━━\u001b[0m \u001b[32m798.6/798.6 kB\u001b[0m \u001b[31m14.1 MB/s\u001b[0m eta \u001b[36m0:00:00\u001b[0m\n",
            "\u001b[?25h  Installing build dependencies ... \u001b[?25l\u001b[?25hdone\n",
            "  Getting requirements to build wheel ... \u001b[?25l\u001b[?25hdone\n",
            "  Preparing metadata (pyproject.toml) ... \u001b[?25l\u001b[?25hdone\n",
            "Requirement already satisfied: transformers in /usr/local/lib/python3.10/dist-packages (4.41.2)\n",
            "Collecting pytube\n",
            "  Downloading pytube-15.0.0-py3-none-any.whl (57 kB)\n",
            "\u001b[2K     \u001b[90m━━━━━━━━━━━━━━━━━━━━━━━━━━━━━━━━━━━━━━━━\u001b[0m \u001b[32m57.6/57.6 kB\u001b[0m \u001b[31m6.7 MB/s\u001b[0m eta \u001b[36m0:00:00\u001b[0m\n",
            "\u001b[?25hCollecting pydub\n",
            "  Downloading pydub-0.25.1-py2.py3-none-any.whl (32 kB)\n",
            "Requirement already satisfied: torch in /usr/local/lib/python3.10/dist-packages (2.3.0+cu121)\n",
            "Requirement already satisfied: mysql-connector-python in /usr/local/lib/python3.10/dist-packages (8.4.0)\n",
            "Requirement already satisfied: triton<3,>=2.0.0 in /usr/local/lib/python3.10/dist-packages (from openai-whisper) (2.3.0)\n",
            "Requirement already satisfied: numba in /usr/local/lib/python3.10/dist-packages (from openai-whisper) (0.58.1)\n",
            "Requirement already satisfied: numpy in /usr/local/lib/python3.10/dist-packages (from openai-whisper) (1.25.2)\n",
            "Requirement already satisfied: tqdm in /usr/local/lib/python3.10/dist-packages (from openai-whisper) (4.66.4)\n",
            "Requirement already satisfied: more-itertools in /usr/local/lib/python3.10/dist-packages (from openai-whisper) (10.1.0)\n",
            "Collecting tiktoken (from openai-whisper)\n",
            "  Downloading tiktoken-0.7.0-cp310-cp310-manylinux_2_17_x86_64.manylinux2014_x86_64.whl (1.1 MB)\n",
            "\u001b[2K     \u001b[90m━━━━━━━━━━━━━━━━━━━━━━━━━━━━━━━━━━━━━━━━\u001b[0m \u001b[32m1.1/1.1 MB\u001b[0m \u001b[31m42.7 MB/s\u001b[0m eta \u001b[36m0:00:00\u001b[0m\n",
            "\u001b[?25hRequirement already satisfied: filelock in /usr/local/lib/python3.10/dist-packages (from transformers) (3.15.1)\n",
            "Requirement already satisfied: huggingface-hub<1.0,>=0.23.0 in /usr/local/lib/python3.10/dist-packages (from transformers) (0.23.4)\n",
            "Requirement already satisfied: packaging>=20.0 in /usr/local/lib/python3.10/dist-packages (from transformers) (24.1)\n",
            "Requirement already satisfied: pyyaml>=5.1 in /usr/local/lib/python3.10/dist-packages (from transformers) (6.0.1)\n",
            "Requirement already satisfied: regex!=2019.12.17 in /usr/local/lib/python3.10/dist-packages (from transformers) (2024.5.15)\n",
            "Requirement already satisfied: requests in /usr/local/lib/python3.10/dist-packages (from transformers) (2.31.0)\n",
            "Requirement already satisfied: tokenizers<0.20,>=0.19 in /usr/local/lib/python3.10/dist-packages (from transformers) (0.19.1)\n",
            "Requirement already satisfied: safetensors>=0.4.1 in /usr/local/lib/python3.10/dist-packages (from transformers) (0.4.3)\n",
            "Requirement already satisfied: typing-extensions>=4.8.0 in /usr/local/lib/python3.10/dist-packages (from torch) (4.12.2)\n",
            "Requirement already satisfied: sympy in /usr/local/lib/python3.10/dist-packages (from torch) (1.12.1)\n",
            "Requirement already satisfied: networkx in /usr/local/lib/python3.10/dist-packages (from torch) (3.3)\n",
            "Requirement already satisfied: jinja2 in /usr/local/lib/python3.10/dist-packages (from torch) (3.1.4)\n",
            "Requirement already satisfied: fsspec in /usr/local/lib/python3.10/dist-packages (from torch) (2023.6.0)\n",
            "Collecting nvidia-cuda-nvrtc-cu12==12.1.105 (from torch)\n",
            "  Using cached nvidia_cuda_nvrtc_cu12-12.1.105-py3-none-manylinux1_x86_64.whl (23.7 MB)\n",
            "Collecting nvidia-cuda-runtime-cu12==12.1.105 (from torch)\n",
            "  Using cached nvidia_cuda_runtime_cu12-12.1.105-py3-none-manylinux1_x86_64.whl (823 kB)\n",
            "Collecting nvidia-cuda-cupti-cu12==12.1.105 (from torch)\n",
            "  Using cached nvidia_cuda_cupti_cu12-12.1.105-py3-none-manylinux1_x86_64.whl (14.1 MB)\n",
            "Collecting nvidia-cudnn-cu12==8.9.2.26 (from torch)\n",
            "  Using cached nvidia_cudnn_cu12-8.9.2.26-py3-none-manylinux1_x86_64.whl (731.7 MB)\n",
            "Collecting nvidia-cublas-cu12==12.1.3.1 (from torch)\n",
            "  Using cached nvidia_cublas_cu12-12.1.3.1-py3-none-manylinux1_x86_64.whl (410.6 MB)\n",
            "Collecting nvidia-cufft-cu12==11.0.2.54 (from torch)\n",
            "  Using cached nvidia_cufft_cu12-11.0.2.54-py3-none-manylinux1_x86_64.whl (121.6 MB)\n",
            "Collecting nvidia-curand-cu12==10.3.2.106 (from torch)\n",
            "  Using cached nvidia_curand_cu12-10.3.2.106-py3-none-manylinux1_x86_64.whl (56.5 MB)\n",
            "Collecting nvidia-cusolver-cu12==11.4.5.107 (from torch)\n",
            "  Using cached nvidia_cusolver_cu12-11.4.5.107-py3-none-manylinux1_x86_64.whl (124.2 MB)\n",
            "Collecting nvidia-cusparse-cu12==12.1.0.106 (from torch)\n",
            "  Using cached nvidia_cusparse_cu12-12.1.0.106-py3-none-manylinux1_x86_64.whl (196.0 MB)\n",
            "Collecting nvidia-nccl-cu12==2.20.5 (from torch)\n",
            "  Using cached nvidia_nccl_cu12-2.20.5-py3-none-manylinux2014_x86_64.whl (176.2 MB)\n",
            "Collecting nvidia-nvtx-cu12==12.1.105 (from torch)\n",
            "  Using cached nvidia_nvtx_cu12-12.1.105-py3-none-manylinux1_x86_64.whl (99 kB)\n",
            "Collecting nvidia-nvjitlink-cu12 (from nvidia-cusolver-cu12==11.4.5.107->torch)\n",
            "  Downloading nvidia_nvjitlink_cu12-12.5.40-py3-none-manylinux2014_x86_64.whl (21.3 MB)\n",
            "\u001b[2K     \u001b[90m━━━━━━━━━━━━━━━━━━━━━━━━━━━━━━━━━━━━━━━━\u001b[0m \u001b[32m21.3/21.3 MB\u001b[0m \u001b[31m59.5 MB/s\u001b[0m eta \u001b[36m0:00:00\u001b[0m\n",
            "\u001b[?25hRequirement already satisfied: MarkupSafe>=2.0 in /usr/local/lib/python3.10/dist-packages (from jinja2->torch) (2.1.5)\n",
            "Requirement already satisfied: llvmlite<0.42,>=0.41.0dev0 in /usr/local/lib/python3.10/dist-packages (from numba->openai-whisper) (0.41.1)\n",
            "Requirement already satisfied: charset-normalizer<4,>=2 in /usr/local/lib/python3.10/dist-packages (from requests->transformers) (3.3.2)\n",
            "Requirement already satisfied: idna<4,>=2.5 in /usr/local/lib/python3.10/dist-packages (from requests->transformers) (3.7)\n",
            "Requirement already satisfied: urllib3<3,>=1.21.1 in /usr/local/lib/python3.10/dist-packages (from requests->transformers) (2.0.7)\n",
            "Requirement already satisfied: certifi>=2017.4.17 in /usr/local/lib/python3.10/dist-packages (from requests->transformers) (2024.6.2)\n",
            "Requirement already satisfied: mpmath<1.4.0,>=1.1.0 in /usr/local/lib/python3.10/dist-packages (from sympy->torch) (1.3.0)\n",
            "Building wheels for collected packages: openai-whisper\n",
            "  Building wheel for openai-whisper (pyproject.toml) ... \u001b[?25l\u001b[?25hdone\n",
            "  Created wheel for openai-whisper: filename=openai_whisper-20231117-py3-none-any.whl size=801359 sha256=36901ae92b83f9877cb43e2494ed909dda07ee83868b68197afd1fb417529893\n",
            "  Stored in directory: /root/.cache/pip/wheels/d0/85/e1/9361b4cbea7dd4b7f6702fa4c3afc94877952eeb2b62f45f56\n",
            "Successfully built openai-whisper\n",
            "Installing collected packages: pydub, pytube, nvidia-nvtx-cu12, nvidia-nvjitlink-cu12, nvidia-nccl-cu12, nvidia-curand-cu12, nvidia-cufft-cu12, nvidia-cuda-runtime-cu12, nvidia-cuda-nvrtc-cu12, nvidia-cuda-cupti-cu12, nvidia-cublas-cu12, tiktoken, nvidia-cusparse-cu12, nvidia-cudnn-cu12, nvidia-cusolver-cu12, openai-whisper\n",
            "Successfully installed nvidia-cublas-cu12-12.1.3.1 nvidia-cuda-cupti-cu12-12.1.105 nvidia-cuda-nvrtc-cu12-12.1.105 nvidia-cuda-runtime-cu12-12.1.105 nvidia-cudnn-cu12-8.9.2.26 nvidia-cufft-cu12-11.0.2.54 nvidia-curand-cu12-10.3.2.106 nvidia-cusolver-cu12-11.4.5.107 nvidia-cusparse-cu12-12.1.0.106 nvidia-nccl-cu12-2.20.5 nvidia-nvjitlink-cu12-12.5.40 nvidia-nvtx-cu12-12.1.105 openai-whisper-20231117 pydub-0.25.1 pytube-15.0.0 tiktoken-0.7.0\n"
          ]
        }
      ]
    },
    {
      "cell_type": "code",
      "source": [
        "!apt-get -y install mysql-server"
      ],
      "metadata": {
        "id": "ssTMY-MUfkaN",
        "colab": {
          "base_uri": "https://localhost:8080/"
        },
        "outputId": "949fc1a0-5e9a-4c3c-ce14-0e307cc127fb"
      },
      "execution_count": null,
      "outputs": [
        {
          "output_type": "stream",
          "name": "stdout",
          "text": [
            "Reading package lists... Done\n",
            "Building dependency tree... Done\n",
            "Reading state information... Done\n",
            "mysql-server is already the newest version (8.0.37-0ubuntu0.22.04.3).\n",
            "0 upgraded, 0 newly installed, 0 to remove and 45 not upgraded.\n"
          ]
        }
      ]
    },
    {
      "cell_type": "code",
      "source": [
        "!service mysql start"
      ],
      "metadata": {
        "colab": {
          "base_uri": "https://localhost:8080/"
        },
        "id": "ipQI-zhqpxwV",
        "outputId": "6f111c44-2aa5-4eb5-f09d-aa3b2f4c072b"
      },
      "execution_count": null,
      "outputs": [
        {
          "output_type": "stream",
          "name": "stdout",
          "text": [
            " * Starting MySQL database server mysqld\n",
            "   ...done.\n"
          ]
        }
      ]
    },
    {
      "cell_type": "code",
      "source": [],
      "metadata": {
        "colab": {
          "base_uri": "https://localhost:8080/"
        },
        "id": "Q1p9i7rpp0vJ",
        "outputId": "ae7e8c16-701f-4105-e2d5-dbf443ada772"
      },
      "execution_count": null,
      "outputs": [
        {
          "output_type": "stream",
          "name": "stdout",
          "text": [
            "Reading package lists... Done\n",
            "Building dependency tree... Done\n",
            "Reading state information... Done\n",
            "mysql-client is already the newest version (8.0.37-0ubuntu0.22.04.3).\n",
            "0 upgraded, 0 newly installed, 0 to remove and 45 not upgraded.\n",
            "Enter password: \n",
            "ERROR 2003 (HY000): Can't connect to MySQL server on '49.37.212.106:3306' (110)\n",
            "\u0007"
          ]
        }
      ]
    },
    {
      "cell_type": "code",
      "execution_count": null,
      "metadata": {
        "colab": {
          "base_uri": "https://localhost:8080/"
        },
        "id": "CogPAXX6Xy49",
        "outputId": "72e9f04e-ca50-4fcf-9293-713f5a99a86f"
      },
      "outputs": [
        {
          "output_type": "stream",
          "name": "stdout",
          "text": [
            "Connected to MySQL Server version 8.0.37-0ubuntu0.22.04.3\n",
            "Database created successfully\n",
            "Database selected successfully\n",
            "Table created successfully\n",
            "MySQL connection is closed\n"
          ]
        }
      ],
      "source": [
        "\n",
        "import mysql.connector\n",
        "from mysql.connector import Error\n",
        "\n",
        "try:\n",
        "    # Replace these with your MySQL database credentials\n",
        "    connection = mysql.connector.connect(\n",
        "        host='localhost',\n",
        "        user='root',\n",
        "        password='root'\n",
        "    )\n",
        "\n",
        "    if connection.is_connected():\n",
        "        db_Info = connection.get_server_info()\n",
        "        print(f\"Connected to MySQL Server version {db_Info}\")\n",
        "\n",
        "        cursor = connection.cursor()\n",
        "        cursor.execute(\"CREATE DATABASE IF NOT EXISTS library\")\n",
        "        print(\"Database created successfully\")\n",
        "        cursor.execute(\"USE library\")\n",
        "        print(\"Database selected successfully\")\n",
        "        cursor.execute(\"CREATE TABLE IF NOT EXISTS books (id INT AUTO_INCREMENT PRIMARY KEY, title VARCHAR(255), author VARCHAR(255), genre VARCHAR(255))\")\n",
        "        print(\"Table created successfully\")\n",
        "\n",
        "\n",
        "except Error as e:\n",
        "    print(\"Error while connecting to MySQL\", e)\n",
        "finally:\n",
        "    if 'connection' in locals() or 'connection' in globals():\n",
        "        if connection.is_connected():\n",
        "            cursor.close()\n",
        "            connection.close()\n",
        "            print(\"MySQL connection is closed\")\n"
      ]
    },
    {
      "cell_type": "code",
      "source": [],
      "metadata": {
        "id": "OsOu1Soayfia"
      },
      "execution_count": null,
      "outputs": []
    },
    {
      "cell_type": "code",
      "source": [
        "import mysql.connector\n",
        "from mysql.connector import Error\n",
        "\n",
        "try:\n",
        "    # Replace 'your-public-ip' with your local machine's public IP address\n",
        "    connection = mysql.connector.connect(\n",
        "        host='49.37.212.106',\n",
        "        user='root',\n",
        "        password='1234',\n",
        "        connection_timeout=10  # 10 seconds timeout\n",
        "    )\n",
        "\n",
        "    if connection.is_connected():\n",
        "        db_Info = connection.get_server_info()\n",
        "        print(f\"Connected to MySQL Server version {db_Info}\")\n",
        "\n",
        "        cursor = connection.cursor()\n",
        "        cursor.execute(\"CREATE DATABASE IF NOT EXISTS library\")\n",
        "        print(\"Database created successfully\")\n",
        "        cursor.execute(\"USE library\")\n",
        "        print(\"Database selected successfully\")\n",
        "        cursor.execute(\"CREATE TABLE IF NOT EXISTS books (id INT AUTO_INCREMENT PRIMARY KEY, title VARCHAR(255), author VARCHAR(255), genre VARCHAR(255))\")\n",
        "        print(\"Table created successfully\")\n",
        "\n",
        "except Error as e:\n",
        "    print(\"Error while connecting to MySQL\", e)\n",
        "finally:\n",
        "    if 'connection' in locals() or 'connection' in globals():\n",
        "        if connection.is_connected():\n",
        "            cursor.close()\n",
        "            connection.close()\n",
        "            print(\"MySQL connection is closed\")\n"
      ],
      "metadata": {
        "colab": {
          "base_uri": "https://localhost:8080/"
        },
        "id": "vrKqyhzYwe4t",
        "outputId": "029ceebb-01e2-4d99-88e5-fc8c06006238"
      },
      "execution_count": null,
      "outputs": [
        {
          "output_type": "stream",
          "name": "stdout",
          "text": [
            "Error while connecting to MySQL 2003 (HY000): Can't connect to MySQL server on '49.37.212.106:3306' (110)\n"
          ]
        }
      ]
    },
    {
      "cell_type": "code",
      "source": [
        "import whisper\n",
        "from pydub import AudioSegment\n",
        "import os\n",
        "from transformers import PegasusForConditionalGeneration, PegasusTokenizer\n",
        "import math\n",
        "from google.colab import files\n",
        "from pytube import YouTube\n",
        "import mysql.connector\n",
        "from datetime import datetime\n",
        "\n",
        "# Function to convert audio file to WAV format if it's not already in that format\n",
        "def convert_to_wav(audio_file):\n",
        "    file_name, file_extension = os.path.splitext(audio_file)\n",
        "    if file_extension.lower() != '.wav':\n",
        "        audio = AudioSegment.from_file(audio_file)\n",
        "        wav_file = f\"{file_name}.wav\"\n",
        "        audio.export(wav_file, format=\"wav\")\n",
        "        return wav_file\n",
        "    return audio_file\n",
        "\n",
        "# Function to transcribe audio using Whisper\n",
        "def transcribe_audio_with_whisper(audio_file):\n",
        "    # Load the Whisper model\n",
        "    model = whisper.load_model(\"base\")\n",
        "\n",
        "    # Convert the audio file to WAV format if necessary\n",
        "    wav_file = convert_to_wav(audio_file)\n",
        "\n",
        "    # Transcribe the audio file\n",
        "    result = model.transcribe(wav_file)\n",
        "\n",
        "    return result[\"text\"]\n",
        "\n",
        "# Function to summarize text using Pegasus-XSUM\n",
        "def summarize_text_with_pegasus(text):\n",
        "    # Load the Pegasus tokenizer and model\n",
        "    model_name = \"google/pegasus-xsum\"\n",
        "    tokenizer = PegasusTokenizer.from_pretrained(model_name)\n",
        "    model = PegasusForConditionalGeneration.from_pretrained(model_name)\n",
        "\n",
        "    # Tokenize the input text\n",
        "    inputs = tokenizer(text, truncation=True, padding=\"longest\", return_tensors=\"pt\")\n",
        "\n",
        "    # Calculate appropriate min_length and max_length values\n",
        "    total_words = len(inputs[\"input_ids\"][0])\n",
        "    min_length = max(math.ceil(total_words / 5), 30)  # Minimum summary length as 1/5 of total words or 30 tokens, whichever is greater\n",
        "    max_length = min(math.ceil(total_words / 3), 120)  # Maximum summary length as 1/3 of total words or 120 tokens, whichever is smaller\n",
        "\n",
        "    # Generate the summary\n",
        "    summary_ids = model.generate(\n",
        "        inputs.input_ids,\n",
        "        num_beams=4,\n",
        "        min_length=min_length,\n",
        "        max_length=max_length,\n",
        "        early_stopping=True\n",
        "    )\n",
        "    summary = tokenizer.decode(summary_ids[0], skip_special_tokens=True)\n",
        "\n",
        "    return summary\n",
        "\n",
        "# Function to download audio from YouTube\n",
        "def download_audio_from_youtube(url):\n",
        "    try:\n",
        "        yt = YouTube(url)\n",
        "        audio_stream = yt.streams.filter(only_audio=True).first()\n",
        "        output_file = audio_stream.download(filename=\"downloaded_audio\")\n",
        "        return output_file\n",
        "    except Exception as e:\n",
        "        print(\"The video is age-restricted and cannot be accessed or downloaded.\")\n",
        "        return None\n",
        "\n",
        "# Function to extract audio metadata\n",
        "def get_audio_metadata(audio_file):\n",
        "    audio = AudioSegment.from_file(audio_file)\n",
        "\n",
        "    # Duration in seconds\n",
        "    duration = len(audio) / 1000.0\n",
        "\n",
        "    # Bitrate in kbps\n",
        "    bitrate = audio.frame_rate\n",
        "\n",
        "    # Sample rate in Hz\n",
        "    sample_rate = audio.frame_rate\n",
        "\n",
        "    # Recorded time (assuming current time for this example)\n",
        "    recorded_time = datetime.now()\n",
        "\n",
        "    return duration, bitrate, sample_rate, recorded_time\n",
        "\n",
        "# Function to store data in MySQL\n",
        "def store_audio_data(audio_file_path, transcription, summary, duration, bitrate, sample_rate, recorded_time):\n",
        "    try:\n",
        "        # Connect to MySQL\n",
        "        conn = mysql.connector.connect(\n",
        "        host='localhost',\n",
        "        user='root',\n",
        "        password='root'\n",
        "        )\n",
        "\n",
        "        if conn.is_connected():\n",
        "            # Check if table exists, create if not\n",
        "            cursor = conn.cursor()\n",
        "            cursor.execute(\"CREATE DATABASE IF NOT EXISTS Audio\")\n",
        "            cursor.execute(\"USE Audio\")\n",
        "            cursor.execute(\"\"\"\n",
        "                CREATE TABLE IF NOT EXISTS audio_data (\n",
        "                    sno INT AUTO_INCREMENT PRIMARY KEY,\n",
        "                    audio_file_path VARCHAR(255) NOT NULL,\n",
        "                    transcription TEXT,\n",
        "                    summary TEXT,\n",
        "                    duration FLOAT,\n",
        "                    bitrate INT,\n",
        "                    sample_rate INT,\n",
        "                    recorded_time DATETIME\n",
        "                )\n",
        "            \"\"\")\n",
        "\n",
        "            # Insert data into table\n",
        "            insert_query = \"INSERT INTO audio_data (audio_file_path, transcription, summary, duration, bitrate, sample_rate, recorded_time) VALUES (%s, %s, %s, %s, %s, %s, %s)\"\n",
        "            data = (audio_file_path, transcription, summary, duration, bitrate, sample_rate, recorded_time)\n",
        "            cursor.execute(insert_query, data)\n",
        "\n",
        "            # Commit changes\n",
        "            conn.commit()\n",
        "            print(\"Data stored successfully in MySQL!\")\n",
        "\n",
        "    except mysql.connector.Error as error:\n",
        "        print(f\"Error storing data in MySQL: {error}\")\n",
        "\n",
        "    finally:\n",
        "        if conn.is_connected():\n",
        "            cursor.close()\n",
        "            conn.close()\n",
        "\n",
        "# Function to handle YouTube URL\n",
        "def handle_audio_input_youtube(input_path_or_url):\n",
        "    if input_path_or_url.startswith(\"http\"):\n",
        "        # It's a YouTube URL\n",
        "        audio_file = download_audio_from_youtube(input_path_or_url)\n",
        "        if audio_file is not None:\n",
        "            try:\n",
        "                # Transcribe the audio file\n",
        "                transcription = transcribe_audio_with_whisper(audio_file)\n",
        "\n",
        "                # Summarize the transcription\n",
        "                summary = summarize_text_with_pegasus(transcription)\n",
        "\n",
        "                # Get audio metadata\n",
        "                duration, bitrate, sample_rate, recorded_time = get_audio_metadata(audio_file)\n",
        "\n",
        "                # Store in MySQL\n",
        "                store_audio_data(audio_file, transcription, summary, duration, bitrate, sample_rate, recorded_time)\n",
        "\n",
        "                # Print the transcription and summary\n",
        "                print(\"Transcription:\\n\", transcription)\n",
        "                print(\"\\nSummary:\\n\", summary)\n",
        "\n",
        "            except Exception as e:\n",
        "                print(f\"Error processing the audio file: {e}\")\n",
        "\n",
        "# Function to handle local file upload\n",
        "def handle_audio_input_local():\n",
        "    uploaded = files.upload()\n",
        "    for filename in uploaded.keys():\n",
        "        audio_file = filename\n",
        "        audio_file = convert_to_wav(audio_file)\n",
        "        if audio_file is not None:\n",
        "            try:\n",
        "                # Transcribe the audio file\n",
        "                transcription = transcribe_audio_with_whisper(audio_file)\n",
        "\n",
        "                # Summarize the transcription\n",
        "                summary = summarize_text_with_pegasus(transcription)\n",
        "\n",
        "                # Get audio metadata\n",
        "                duration, bitrate, sample_rate, recorded_time = get_audio_metadata(audio_file)\n",
        "\n",
        "                # Store in MySQL\n",
        "                store_audio_data(audio_file, transcription, summary, duration, bitrate, sample_rate, recorded_time)\n",
        "\n",
        "                # Print the transcription and summary\n",
        "                print(\"Transcription:\\n\", transcription)\n",
        "                print(\"\\nSummary:\\n\", summary)\n",
        "\n",
        "            except Exception as e:\n",
        "                print(f\"Error processing the audio file: {e}\")\n",
        "\n",
        "\n",
        "\n",
        "# Determine if it's a YouTube URL or local file upload\n",
        "temp = input(\"Is it a YouTube URL? (y/n): \").strip()\n",
        "if temp.lower() == \"y\":\n",
        "    input_path_or_url = input(\"Enter the YouTube URL: \").strip()\n",
        "    handle_audio_input_youtube(input_path_or_url)\n",
        "else:\n",
        "    handle_audio_input_local()\n"
      ],
      "metadata": {
        "colab": {
          "base_uri": "https://localhost:8080/"
        },
        "id": "it9m8qyBpojG",
        "outputId": "04efd8ea-d3f8-4eba-8d27-920a27bac9f9"
      },
      "execution_count": null,
      "outputs": [
        {
          "name": "stdout",
          "output_type": "stream",
          "text": [
            "Is it a YouTube URL? (y/n): y\n",
            "Enter the YouTube URL: https://youtu.be/aO1-6X_f74M?si=9uWh7LUCJ9yWJ1zv\n"
          ]
        },
        {
          "output_type": "stream",
          "name": "stderr",
          "text": [
            "/usr/local/lib/python3.10/dist-packages/whisper/transcribe.py:115: UserWarning: FP16 is not supported on CPU; using FP32 instead\n",
            "  warnings.warn(\"FP16 is not supported on CPU; using FP32 instead\")\n",
            "Some weights of PegasusForConditionalGeneration were not initialized from the model checkpoint at google/pegasus-xsum and are newly initialized: ['model.decoder.embed_positions.weight', 'model.encoder.embed_positions.weight']\n",
            "You should probably TRAIN this model on a down-stream task to be able to use it for predictions and inference.\n"
          ]
        },
        {
          "output_type": "stream",
          "name": "stdout",
          "text": [
            "Data stored successfully in MySQL!\n",
            "Transcription:\n",
            "  How to Talk about Home Town I live in a city called London. This is not London, England. It is a city in Canada. Some of Canada's cities have the same names as English cities. London, Canada has many restaurants and cafes. For entertainment, you can go to the movie theatre or art gallery. There is a famous university in London called Western University. It is not close to the ocean or lake, so there are no beaches. It is a multicultural city, so there are churches, temples and mosques. I've been living in London for ten years. My favorite part of this city is the nature. There are many parks and forests where you can go for walks, runs, or have picnics with friends. The worst thing about London is that it is far away from other big cities in Canada. You need to drive for almost two hours to get to Toronto or Niagara Falls. This isolation isn't all bad, however. If you drive half an hour outside the city, you can find beautiful quiet forests. Overall, I enjoy living in London.\n",
            "\n",
            "Summary:\n",
            " What is London, Canada and what is it like to live in London, England, and what is it like to live in London, England, and what is it like to live in London, Canada, and what is it like to live in London, England, and what is it like to live in London, England, and what is it like to\n"
          ]
        }
      ]
    },
    {
      "cell_type": "code",
      "source": [],
      "metadata": {
        "id": "eDnudgj6pZp2"
      },
      "execution_count": null,
      "outputs": []
    }
  ]
}